{
 "cells": [
  {
   "cell_type": "code",
   "execution_count": 6,
   "metadata": {},
   "outputs": [],
   "source": [
    "from tkinter import *\n",
    "from tkinter.ttk import *\n",
    "from tkinter.ttk import Progressbar\n",
    "from PIL import Image,ImageTk\n",
    "\n",
    "win=Tk()\n",
    "p1=PhotoImage(file='D:\\\\Loan.png')\n",
    "win.iconphoto(False,p1)\n",
    "\n",
    "image=Image.open(\"D:\\\\loanemi.jpg\")\n",
    "photo=ImageTk.PhotoImage(image)\n",
    "lbl=Label(win,image=photo)\n",
    "lbl.pack(pady=60,padx=0)\n",
    "\n",
    "lbl1=Label(win,text=\"LOAN-EMI-CALCULATOR\",font=(\"Helvetica\",30,\"bold\"))\n",
    "lbl1.place(x=50,y=10)\n",
    "def Pg():\n",
    "    global value\n",
    "    value +=10\n",
    "    pgBar['value']=value\n",
    "    win.update_idletasks()\n",
    "    if value!=600:\n",
    "        win.after(600,Pg)\n",
    "\n",
    "\n",
    "pgBar=Progressbar(win,length=600,orient=HORIZONTAL,value=40,mode='determinate')\n",
    "pgBar.pack(pady=250)  \n",
    "value=0\n",
    "\n",
    "btn=Button(win,text=\"Press to continue\",command=Pg)\n",
    "btn.pack(pady=270)\n",
    "\n",
    "win.title(\"LOAN-EMI-CALCULATOR\")\n",
    "win.geometry(\"600x300+300+200\")\n",
    "win.resizable(0,0)\n",
    "mainloop()"
   ]
  },
  {
   "cell_type": "code",
   "execution_count": null,
   "metadata": {},
   "outputs": [],
   "source": []
  },
  {
   "cell_type": "code",
   "execution_count": null,
   "metadata": {},
   "outputs": [],
   "source": []
  }
 ],
 "metadata": {
  "kernelspec": {
   "display_name": "Python 3",
   "language": "python",
   "name": "python3"
  },
  "language_info": {
   "codemirror_mode": {
    "name": "ipython",
    "version": 3
   },
   "file_extension": ".py",
   "mimetype": "text/x-python",
   "name": "python",
   "nbconvert_exporter": "python",
   "pygments_lexer": "ipython3",
   "version": "3.7.0"
  }
 },
 "nbformat": 4,
 "nbformat_minor": 4
}
